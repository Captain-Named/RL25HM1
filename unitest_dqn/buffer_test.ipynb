{
 "cells": [
  {
   "cell_type": "code",
   "execution_count": 13,
   "metadata": {},
   "outputs": [],
   "source": [
    "# Import necessary modules\n",
    "import sys\n",
    "import os\n",
    "import random\n",
    "import numpy as np\n",
    "\n",
    "# Add current directory to path\n",
    "sys.path.append(os.getcwd())\n",
    "\n",
    "# Import relevant classes\n",
    "from deepQlearning import ReplayBuffer, State, Experience"
   ]
  },
  {
   "cell_type": "code",
   "execution_count": 14,
   "metadata": {},
   "outputs": [
    {
     "name": "stdout",
     "output_type": "stream",
     "text": [
      "Initial buffer size: 0\n",
      "ReplayBuffer initialization successful ✅\n"
     ]
    }
   ],
   "source": [
    "# Test ReplayBuffer initialization\n",
    "def test_init():\n",
    "    \"\"\"Test if ReplayBuffer initializes correctly\"\"\"\n",
    "    buffer = ReplayBuffer()\n",
    "    print(f\"Initial buffer size: {len(buffer.replay_buffer)}\")\n",
    "    print(\"ReplayBuffer initialization successful ✅\")\n",
    "\n",
    "test_init()"
   ]
  },
  {
   "cell_type": "code",
   "execution_count": null,
   "metadata": {},
   "outputs": [
    {
     "name": "stdout",
     "output_type": "stream",
     "text": [
      "Buffer size after adding experience: 1\n",
      "Action of added experience: 1\n",
      "_push method test successful ✅\n"
     ]
    }
   ],
   "source": [
    "# Test _push method\n",
    "def test_push():\n",
    "    \"\"\"Test adding experiences to buffer\"\"\"\n",
    "    buffer = ReplayBuffer()\n",
    "    \n",
    "    # Create test experience\n",
    "    state1 = State(0, 1.0)\n",
    "    state2 = State(1, 1.1)\n",
    "    exp = Experience(state1, 1, 0.1, state2)\n",
    "    \n",
    "    # Add to buffer\n",
    "    buffer._push([exp])\n",
    "    \n",
    "    print(f\"Buffer size after adding experience: {len(buffer.replay_buffer)}\")\n",
    "    print(f\"Action of added experience: {buffer.replay_buffer[0].action}\")\n",
    "    print(\"_push method test successful ✅\")\n",
    "\n",
    "test_push()"
   ]
  },
  {
   "cell_type": "code",
   "execution_count": null,
   "metadata": {},
   "outputs": [
    {
     "name": "stdout",
     "output_type": "stream",
     "text": [
      "Sample size: 3\n",
      "Actions in sample: [0, 6, 1]\n",
      "sample method test successful ✅\n"
     ]
    }
   ],
   "source": [
    "# Test sample method\n",
    "def test_sample():\n",
    "    \"\"\"Test sampling from buffer\"\"\"\n",
    "    buffer = ReplayBuffer()\n",
    "    \n",
    "    # Create and add multiple experiences\n",
    "    experiences = []\n",
    "    for i in range(10):\n",
    "        state1 = State(i, 1.0)\n",
    "        state2 = State(i+1, 1.1)\n",
    "        exp = Experience(state1, i, 0.1, state2)\n",
    "        experiences.append(exp)\n",
    "    \n",
    "    buffer._push(experiences)\n",
    "    \n",
    "    # Test sampling\n",
    "    samples = buffer.sample(3)\n",
    "    \n",
    "    print(f\"Sample size: {len(samples)}\")\n",
    "    print(f\"Actions in sample: {[exp.action for exp in samples]}\")\n",
    "    print(\"sample method test successful ✅\")\n",
    "\n",
    "test_sample()"
   ]
  },
  {
   "cell_type": "code",
   "execution_count": 18,
   "metadata": {},
   "outputs": [
    {
     "name": "stdout",
     "output_type": "stream",
     "text": [
      "Buffer size before reset: 1\n",
      "Buffer size after reset: 0\n",
      "_reset method test successful ✅\n"
     ]
    }
   ],
   "source": [
    "# Test _reset method\n",
    "def test_reset():\n",
    "    \"\"\"Test clearing the buffer\"\"\"\n",
    "    buffer = ReplayBuffer()\n",
    "    \n",
    "    # Add experience\n",
    "    state1 = State(0, 1.0)\n",
    "    state2 = State(1, 1.1)\n",
    "    exp = Experience(state1, 1, 0.1, state2)\n",
    "    buffer._push([exp])\n",
    "    \n",
    "    print(f\"Buffer size before reset: {len(buffer.replay_buffer)}\")\n",
    "    \n",
    "    # Reset buffer\n",
    "    buffer._reset()\n",
    "    \n",
    "    print(f\"Buffer size after reset: {len(buffer.replay_buffer)}\")\n",
    "    print(\"_reset method test successful ✅\")\n",
    "\n",
    "test_reset()"
   ]
  },
  {
   "cell_type": "code",
   "execution_count": 19,
   "metadata": {},
   "outputs": [
    {
     "name": "stdout",
     "output_type": "stream",
     "text": [
      "Buffer size after processing: 3\n",
      "Action of first experience: 8\n",
      "Reward of first experience: 0.3\n",
      "get_experiences_and_push method test successful ✅\n"
     ]
    }
   ],
   "source": [
    "# Test get_experiences_and_push method\n",
    "def test_get_experiences_and_push():\n",
    "    \"\"\"Test extracting experiences from episodes and adding to buffer\"\"\"\n",
    "    buffer = ReplayBuffer()\n",
    "    \n",
    "    # Create test episodes\n",
    "    episodes = [{\n",
    "        \"states\": [State(t, 1.0 + t*0.1) for t in range(4)],\n",
    "        \"actions\": [2, 5, 8],\n",
    "        \"rewards\": [0.1, 0.2, 0.3]\n",
    "    }]\n",
    "    \n",
    "    # Process episodes\n",
    "    buffer.get_experiences_and_push(episodes)\n",
    "    \n",
    "    print(f\"Buffer size after processing: {len(buffer.replay_buffer)}\")\n",
    "    print(f\"Action of first experience: {buffer.replay_buffer[0].action}\")\n",
    "    print(f\"Reward of first experience: {buffer.replay_buffer[0].reward}\")\n",
    "    print(\"get_experiences_and_push method test successful ✅\")\n",
    "\n",
    "test_get_experiences_and_push()"
   ]
  },
  {
   "cell_type": "code",
   "execution_count": 9,
   "metadata": {},
   "outputs": [
    {
     "name": "stdout",
     "output_type": "stream",
     "text": [
      "1. Initialize buffer\n",
      "   Buffer size: 0\n",
      "\n",
      "2. Add experiences\n",
      "   Buffer size after adding: 5\n",
      "\n",
      "3. Sample experiences\n",
      "   Sample size: 3\n",
      "   Actions in sample: [0, 1, 1]\n",
      "\n",
      "4. Reset buffer\n",
      "   Buffer size after reset: 0\n",
      "\n",
      "5. Process episodes\n",
      "   Buffer size after processing: 2\n",
      "\n",
      "Comprehensive test completed successfully ✅\n"
     ]
    }
   ],
   "source": [
    "# Cell 8: Comprehensive test\n",
    "def test_all_methods():\n",
    "    \"\"\"Test all methods together\"\"\"\n",
    "    buffer = ReplayBuffer()\n",
    "    \n",
    "    print(\"1. Initialize buffer\")\n",
    "    print(f\"   Buffer size: {len(buffer.replay_buffer)}\")\n",
    "    \n",
    "    print(\"\\n2. Add experiences\")\n",
    "    experiences = []\n",
    "    for i in range(5):\n",
    "        state1 = State(i, 1.0)\n",
    "        state2 = State(i+1, 1.1)\n",
    "        exp = Experience(state1, i, 0.1, state2)\n",
    "        experiences.append(exp)\n",
    "    buffer._push(experiences)\n",
    "    print(f\"   Buffer size after adding: {len(buffer.replay_buffer)}\")\n",
    "    \n",
    "    print(\"\\n3. Sample experiences\")\n",
    "    samples = buffer.sample(3)\n",
    "    print(f\"   Sample size: {len(samples)}\")\n",
    "    print(f\"   Actions in sample: {[exp.action for exp in samples]}\")\n",
    "    \n",
    "    print(\"\\n4. Reset buffer\")\n",
    "    buffer._reset()\n",
    "    print(f\"   Buffer size after reset: {len(buffer.replay_buffer)}\")\n",
    "    \n",
    "    print(\"\\n5. Process episodes\")\n",
    "    episodes = [{\n",
    "        \"states\": [State(t, 1.0 + t*0.1) for t in range(3)],\n",
    "        \"actions\": [0.2, 0.5],\n",
    "        \"rewards\": [0.1, 0.2]\n",
    "    }]\n",
    "    buffer.get_experiences_and_push(episodes)\n",
    "    print(f\"   Buffer size after processing: {len(buffer.replay_buffer)}\")\n",
    "    \n",
    "    print(\"\\nComprehensive test completed successfully ✅\")\n",
    "\n",
    "test_all_methods()"
   ]
  }
 ],
 "metadata": {
  "kernelspec": {
   "display_name": "hftransformers",
   "language": "python",
   "name": "python3"
  },
  "language_info": {
   "codemirror_mode": {
    "name": "ipython",
    "version": 3
   },
   "file_extension": ".py",
   "mimetype": "text/x-python",
   "name": "python",
   "nbconvert_exporter": "python",
   "pygments_lexer": "ipython3",
   "version": "3.11.10"
  }
 },
 "nbformat": 4,
 "nbformat_minor": 2
}
